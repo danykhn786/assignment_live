{
  "nbformat": 4,
  "nbformat_minor": 0,
  "metadata": {
    "colab": {
      "provenance": [],
      "collapsed_sections": []
    },
    "kernelspec": {
      "name": "python3",
      "display_name": "Python 3"
    },
    "language_info": {
      "name": "python"
    }
  },
  "cells": [
    {
      "cell_type": "code",
      "execution_count": null,
      "metadata": {
        "colab": {
          "base_uri": "https://localhost:8080/"
        },
        "id": "B4dGSY9M1QEv",
        "outputId": "41f4fb95-a21d-43c0-d6fe-8136a37790a9"
      },
      "outputs": [
        {
          "output_type": "execute_result",
          "data": {
            "text/plain": [
              "5"
            ]
          },
          "metadata": {},
          "execution_count": 2
        }
      ],
      "source": [
        "#Write a function which will try to find out len of a string without using an inbuilt len function\n",
        "\n",
        "def length(s):\n",
        "  \"\"\" This Function Calculates the length of string without using inbuilt function \"\"\"\n",
        "  count = 0 \n",
        "  for len in s:\n",
        "    count = count + 1\n",
        "  return count\n",
        "\n",
        "length(\"Hello\")"
      ]
    },
    {
      "cell_type": "code",
      "source": [
        "#Write a function which will be able to print an index of list element without using index function\n",
        "l = [3,4,5,6,7,8,\"sudh\" ,5,6,7,\"kumar\" , \"ineuron\"]\n",
        "def indexFinder(l,index):\n",
        "  \"\"\" Prints an index of list element without using index function\"\"\"\n",
        "  for i in range(len(l)): \n",
        "    if(l[i] == index):\n",
        "     print(f\"Value: {l[i]}  Index:{i}\")\n",
        "indexFinder(l,\"sudh\")\n"
      ],
      "metadata": {
        "colab": {
          "base_uri": "https://localhost:8080/"
        },
        "id": "LIfySfzi2Rnj",
        "outputId": "550c28a8-8b79-4cb7-b749-50572ff995cd"
      },
      "execution_count": null,
      "outputs": [
        {
          "output_type": "stream",
          "name": "stdout",
          "text": [
            "Value: sudh  Index:6\n"
          ]
        }
      ]
    },
    {
      "cell_type": "code",
      "source": [
        "#Write a function which will be able to print an IP Address of your system\n",
        "import socket\n",
        "hostname = socket.gethostname()\n",
        "IP = socket.gethostbyname(hostname)\n",
        "\n",
        "print(f\"You IP Address is: {IP}\")"
      ],
      "metadata": {
        "colab": {
          "base_uri": "https://localhost:8080/"
        },
        "id": "qFK5HplZ7IlH",
        "outputId": "2067bd54-48b1-4da7-e005-df0e7473fbe7"
      },
      "execution_count": null,
      "outputs": [
        {
          "output_type": "stream",
          "name": "stdout",
          "text": [
            "You IP Address is: 172.28.0.2\n"
          ]
        }
      ]
    },
    {
      "cell_type": "code",
      "source": [
        "#Write a function which will shut down your System\n",
        "def shutdown(): \n",
        "  import os\n",
        "  shutdown = input(\"Do you wish to shutdown your computer ? (yes / no): \")\n",
        "  \n",
        "  if shutdown == 'no':\n",
        "      exit()\n",
        "  else:\n",
        "      print(\"Shutting down...\")\n",
        "      os.system(\"shutdown /s /t 1\")\n",
        "shutdown()"
      ],
      "metadata": {
        "colab": {
          "base_uri": "https://localhost:8080/"
        },
        "id": "ABVB2Djv8rqm",
        "outputId": "c63349bd-6c32-4d09-a038-d2b43640840c"
      },
      "execution_count": 20,
      "outputs": [
        {
          "name": "stdout",
          "output_type": "stream",
          "text": [
            "Do you wish to shutdown your computer ? (yes / no): no\n"
          ]
        }
      ]
    },
    {
      "cell_type": "code",
      "source": [
        "#Write a function which will take input as a list with any kind of numeric value and give an output as a multiplication of all the numeric data l = [3.5,6.56,4,5,\"sudh\",\"ineuron\",\"fsds bootcamp 2.0\"]\n",
        "l = [3.5,6.56,4,5,\"sudh\",\"ineuron\",\"fsds bootcamp 2.0\"]\n",
        "def listMultiply(l):\n",
        "  multiple = 1.0\n",
        "  for val in l:\n",
        "    if (type(val) == int or type(val) == float):\n",
        "      multiple = multiple * val\n",
        "  return multiple\n",
        "listMultiply(l)"
      ],
      "metadata": {
        "colab": {
          "base_uri": "https://localhost:8080/"
        },
        "id": "cSZsRh88BE6I",
        "outputId": "f9ba4c79-a314-42a0-88cf-9ebcb4f9a3b0"
      },
      "execution_count": 6,
      "outputs": [
        {
          "output_type": "execute_result",
          "data": {
            "text/plain": [
              "459.19999999999993"
            ]
          },
          "metadata": {},
          "execution_count": 6
        }
      ]
    },
    {
      "cell_type": "code",
      "source": [
        "#Write a function which will be able to read all the mails\n",
        "\n",
        "import smtplib\n",
        "import time\n",
        "import imaplib\n",
        "import email\n",
        "import traceback \n",
        "\n",
        "ORG_EMAIL = \"@gmail.com\" \n",
        "FROM_EMAIL = \"your_email\" + ORG_EMAIL \n",
        "FROM_PWD = \"your-password\" \n",
        "SMTP_SERVER = \"imap.gmail.com\" \n",
        "SMTP_PORT = 993\n",
        "\n",
        "def read_email_from_gmail():\n",
        "    try:\n",
        "        mail = imaplib.IMAP4_SSL(SMTP_SERVER)\n",
        "        mail.login(FROM_EMAIL,FROM_PWD)\n",
        "        mail.select('inbox')\n",
        "\n",
        "        data = mail.search(None, 'ALL')\n",
        "        mail_ids = data[1]\n",
        "        id_list = mail_ids[0].split()   \n",
        "        first_email_id = int(id_list[0])\n",
        "        latest_email_id = int(id_list[-1])\n",
        "\n",
        "        for i in range(latest_email_id,first_email_id, -1):\n",
        "            data = mail.fetch(str(i), '(RFC822)' )\n",
        "            for response_part in data:\n",
        "                arr = response_part[0]\n",
        "                if isinstance(arr, tuple):\n",
        "                    msg = email.message_from_string(str(arr[1],'utf-8'))\n",
        "                    email_subject = msg['subject']\n",
        "                    email_from = msg['from']\n",
        "                    print('From : ' + email_from + '\\n')\n",
        "                    print('Subject : ' + email_subject + '\\n')\n",
        "\n",
        "    except Exception as e:\n",
        "        traceback.print_exc() \n",
        "        print(str(e))\n",
        "\n",
        "read_email_from_gmail()"
      ],
      "metadata": {
        "colab": {
          "base_uri": "https://localhost:8080/"
        },
        "id": "pxkcPHYIDEt3",
        "outputId": "606752bf-4f85-46fd-c8c1-34d15a3f57cc"
      },
      "execution_count": 12,
      "outputs": [
        {
          "output_type": "stream",
          "name": "stdout",
          "text": [
            "b'[AUTHENTICATIONFAILED] Invalid credentials (Failure)'\n"
          ]
        },
        {
          "output_type": "stream",
          "name": "stderr",
          "text": [
            "Traceback (most recent call last):\n",
            "  File \"<ipython-input-12-f23cf780c333>\", line 22, in read_email_from_gmail\n",
            "    mail.login(FROM_EMAIL,FROM_PWD)\n",
            "  File \"/usr/lib/python3.7/imaplib.py\", line 598, in login\n",
            "    raise self.error(dat[-1])\n",
            "imaplib.IMAP4.error: b'[AUTHENTICATIONFAILED] Invalid credentials (Failure)'\n"
          ]
        }
      ]
    },
    {
      "cell_type": "code",
      "source": [
        "#Write a function which will be able to send a mail to anyone\n",
        "import smtplib\n",
        " \n",
        "\n",
        "li = [\"xxxxx@gmail.com\", \"yyyyy@gmail.com\"]\n",
        " \n",
        "for dest in li:\n",
        "    s = smtplib.SMTP('smtp.gmail.com', 587)\n",
        "    s.starttls()\n",
        "    s.login(\"sender_email_id\", \"sender_email_id_password\")\n",
        "    message = \"Message_you_need_to_send\"\n",
        "    s.sendmail(\"sender_email_id\", dest, message)\n",
        "    s.quit()"
      ],
      "metadata": {
        "id": "MmGojgMJFJZa"
      },
      "execution_count": null,
      "outputs": []
    },
    {
      "cell_type": "code",
      "source": [
        "#Write a function which will be able to read a doc file from your system\n",
        "with open('Doc1.docx','r') as file:\n",
        "   \n",
        "    # reading each line    \n",
        "    for line in file:\n",
        "   \n",
        "        # reading each word        \n",
        "        for word in line.split():\n",
        "   \n",
        "            # displaying the words           \n",
        "            print(word) "
      ],
      "metadata": {
        "colab": {
          "base_uri": "https://localhost:8080/",
          "height": 131
        },
        "id": "vE2x6pWOFQ3j",
        "outputId": "312971c0-485e-462a-8647-25f4a8a0657b"
      },
      "execution_count": 15,
      "outputs": [
        {
          "output_type": "error",
          "ename": "SyntaxError",
          "evalue": "ignored",
          "traceback": [
            "\u001b[0;36m  File \u001b[0;32m\"<ipython-input-15-db4c157fa0cc>\"\u001b[0;36m, line \u001b[0;32m1\u001b[0m\n\u001b[0;31m    with open('C:\\Users\\danyk\\Desktop\\Doc1.docx','r') as file:\u001b[0m\n\u001b[0m             ^\u001b[0m\n\u001b[0;31mSyntaxError\u001b[0m\u001b[0;31m:\u001b[0m (unicode error) 'unicodeescape' codec can't decode bytes in position 2-3: truncated \\UXXXXXXXX escape\n"
          ]
        }
      ]
    },
    {
      "cell_type": "code",
      "source": [],
      "metadata": {
        "id": "KWU7uyYkGF71"
      },
      "execution_count": null,
      "outputs": []
    }
  ]
}